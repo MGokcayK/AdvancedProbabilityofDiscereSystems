{
  "nbformat": 4,
  "nbformat_minor": 0,
  "metadata": {
    "colab": {
      "name": "Homework2.ipynb",
      "provenance": [],
      "collapsed_sections": [],
      "authorship_tag": "ABX9TyNgpZuLyzduEQaxelya6DM5",
      "include_colab_link": true
    },
    "kernelspec": {
      "name": "python3",
      "display_name": "Python 3"
    }
  },
  "cells": [
    {
      "cell_type": "markdown",
      "metadata": {
        "id": "view-in-github",
        "colab_type": "text"
      },
      "source": [
        "<a href=\"https://colab.research.google.com/github/MGokcayK/AdvancedProbabilityofDiscereSystems/blob/master/Homework2.ipynb\" target=\"_parent\"><img src=\"https://colab.research.google.com/assets/colab-badge.svg\" alt=\"Open In Colab\"/></a>"
      ]
    },
    {
      "cell_type": "markdown",
      "metadata": {
        "id": "UoovOuPyGKY-",
        "colab_type": "text"
      },
      "source": [
        "# TR\n",
        "##Ödev : Kombinasyonlu olasılık sorusuna bir örnek yazıp çözün.\n",
        "\n",
        "### Soru :\n",
        "Bir hava yolu şirketinin 200 tane uçağı vardır. Bir müşteri her ay işi için düzenli olarak bu hava \n",
        "yolu şirketiyle uçmaktadır. Şirket giderleri için son 5 yıldır her uçuşun bileti saklanmakta ve \n",
        "biletlerde uçulan uçağın kodu bulunmaktadır. Biletlerde görülüyor ki müşteri son 2 yılda 17 farklı \n",
        "uçakla uçmuştur. Buna göre bu sene yapılacak uçuşlarda müşterinin son 2 senedir uçtuğu uçaklardan \n",
        "biriyle tekrar uçma olasılığı nedir? \n",
        "\n",
        "### Çözüm :\n",
        "İlk önce olayların eşit şanslı olaylar olduğunu kontrol etmemiz gerekmektedir. Her uçak birbirinden \n",
        "farklı olduğundan bu uçakların o uçuş için seçilme ihtimalleri birbirine eşittir. Dolayısıyla bir \n",
        "sonraki aşama olan analize geçilebilir. Direkt olarak son 2 senedir uçulan uçakların biriyle tekrar \n",
        "uçma olasılığını hesaplamak zor olacağından çözüm için son 2 senedir uçulmamış uçakların gelme olasılığını\n",
        "bulmak daha kolay olacaktır. Bir durumun gerçekleşmesi ile gerçekleşmemesi ihtimalinin toplamı 1 \n",
        "olduğundan sonucu 1'den çıkardığımızda aradığımız sonuca ulaşmış olacağız. \n",
        "\n",
        "* Son 2 yıldaki farklı uçak sayısı = 17\n",
        "* Son 2 yıldaki uçulmamış uçak sayısı = 200 - 17 = 183\n",
        "* Son 2 yılda uçulan uçakların seçilme olasılığı = P(A)\n",
        "* Son 2 yılda uçulmayan uçakların seçilme olasılığı = P(A')\n",
        "\n",
        "$$ P(A) = 1 - P(A') $$ \n",
        "$$ P(A') = \\frac{C(183,12)}{C(200,12)} = 0.33356 $$\n",
        "$$ P(A) = 1 - 0.33356 = 0.66644 $$\n",
        "\n",
        "\n",
        "-------------------------------------------------------------------------------\n",
        "# EN \n",
        "##Homework : Write an example of probability with combinators.\n",
        "\n",
        "### Question : \n",
        "An airline has 200 aircraft. A customer flies regularly with this airline company for his business \n",
        "every month. For the last 5 years, the tickets of each flight have been kept for company expenses \n",
        "and the code of the plane being flown is included in the tickets. It is seen in the tickets that \n",
        "the customer flew in the last 2 years with 17 different planes. Accordingly, what is the probability \n",
        "of the customer flying again with one of the planes he has been flying for the last 2 years on the \n",
        "flights to be made this year?\n",
        "\n",
        "### Solution : \n",
        "First we need to check that the events are equally likely. Since each plane is different, the chances\n",
        "of these planes being selected for that flight are equal. Therefore, it can proceed to the next step, \n",
        "analysis. Since it will be difficult to calculate the probability of flying again with one of the \n",
        "planes that have been flying for the last 2 years directly, it will be easier to find the probability \n",
        "that the planes that have not been flying for the last 2 years. Since the sum of the \n",
        "probability of a situation not happening and its unrealization is 1, when we subtract the result from \n",
        "1, we will reach the result we are looking for.\n",
        "\n",
        "* Different airplanes in last 2 years = 17 \n",
        "* Not flown airplanes in last 2 years = 200 - 17 = 183 \n",
        "* Probability of airplanes which customer flown in last 2 years = P(A)\n",
        "* Probability of airplanes which customer not flown in last 2 years = P(A')\n",
        "\n",
        "$$ P(A) = 1 - P(A') $$ \n",
        "$$ P(A') = \\frac{C(183,12)}{C(200,12)} = 0.33356 $$\n",
        "$$ P(A) = 1 - 0.33356 = 0.66644 $$"
      ]
    },
    {
      "cell_type": "code",
      "metadata": {
        "id": "ecAqCIKdI1n4",
        "colab_type": "code",
        "colab": {
          "base_uri": "https://localhost:8080/",
          "height": 85
        },
        "outputId": "d5747ede-a06d-4d29-edf5-78149338a544"
      },
      "source": [
        "def factorial(n):\n",
        "    '''\n",
        "      Factorial = n * (n-1) * (n-2) * ... * 3 * 2 * 1\n",
        "\n",
        "      TR; n sayısının faktöriyelini hesaplayan fonksiyon.\n",
        "\n",
        "      EN; Function that calculates factorial of n.\n",
        "    '''\n",
        "    f = 1\n",
        "    for i in range(n,0,-1):\n",
        "      f *= i\n",
        "    return f\n",
        "\n",
        "def combination(n, r): \n",
        "    '''\n",
        "      Combination C(n,r) = n! / ((n-r)! * r!)\n",
        "\n",
        "      TR; n sayısının r sayılı kombinasyonu.\n",
        "\n",
        "      EN; combination of n w.r.t r.\n",
        "    '''\n",
        "    return factorial(n) / (factorial(n - r) * factorial(r))\n",
        "\n",
        "\n",
        "if __name__ == '__main__':\n",
        "    #   TR; Müşterinin son 2 senede uçmadığı uçakların seçilmesi.\n",
        "    #\tEN; Selection of a/c which customer not flew in last 2 years.\n",
        "    C_not_flown_ac = combination(183, 12) \n",
        "\n",
        "    #   TR; Tüm uçakların seçilmesi.\n",
        "    #\tEN; Selection of all a/c.\n",
        "    C_all_ac = combination(200,12)\n",
        "\n",
        "    #   TR; Müşterinin bu sene uçacağı uçakların son 2 senedir uçulmamış uçaklar olma ihtimali.\n",
        "    #\tEN; Probability of this year a/c which customer not flew with it in last 2 years.\n",
        "    P_not_flown = C_not_flown_ac / C_all_ac\n",
        "\n",
        "    #   TR; Müşterinin bu sene uçacağu uçakların son 2 senedir uçulmuş uçaklar olma ihtimali.\n",
        "    #\tEN; Probability of a/c which customer flown with it in last 2 years.\n",
        "    P_flown = 1 - P_not_flown\n",
        "\n",
        "    tr_pr = \"TR; Son 2 senede uculmayan ucaklar ile ucma ihtimali : {}\".format(round(P_not_flown,5))\n",
        "    en_pr = \"EN; Probability of airplanes which customer not flown with it in last 2 years : {}\".format(round(P_not_flown,5))\n",
        "    print(tr_pr)\n",
        "    print(en_pr)\n",
        "\n",
        "    tr_pr = \"TR; Son 2 senede uculan ucaklar ile ucma ihtimali : {}\".format(round(P_flown,5))\n",
        "    en_pr = \"EN; Probability of airplanes which customer flown with it in last 2 years : {}\".format(round(P_flown,5))\n",
        "    print(tr_pr)\n",
        "    print(en_pr)\n"
      ],
      "execution_count": 1,
      "outputs": [
        {
          "output_type": "stream",
          "text": [
            "TR; Son 2 senede uculmayan ucaklar ile ucma ihtimali : 0.33356\n",
            "EN; Probability of airplanes which customer not flown with it in last 2 years : 0.33356\n",
            "TR; Son 2 senede uculan ucaklar ile ucma ihtimali : 0.66644\n",
            "EN; Probability of airplanes which customer flown with it in last 2 years : 0.66644\n"
          ],
          "name": "stdout"
        }
      ]
    }
  ]
}