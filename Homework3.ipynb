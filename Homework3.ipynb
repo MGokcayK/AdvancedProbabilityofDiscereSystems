{
  "nbformat": 4,
  "nbformat_minor": 0,
  "metadata": {
    "colab": {
      "name": "Homework3.ipynb",
      "provenance": [],
      "collapsed_sections": [],
      "authorship_tag": "ABX9TyNSKqUC2e+TnUjoGsmY6SFy",
      "include_colab_link": true
    },
    "kernelspec": {
      "name": "python3",
      "display_name": "Python 3"
    }
  },
  "cells": [
    {
      "cell_type": "markdown",
      "metadata": {
        "id": "view-in-github",
        "colab_type": "text"
      },
      "source": [
        "<a href=\"https://colab.research.google.com/github/MGokcayK/AdvancedProbabilityofDiscereSystems/blob/master/Homework3.ipynb\" target=\"_parent\"><img src=\"https://colab.research.google.com/assets/colab-badge.svg\" alt=\"Open In Colab\"/></a>"
      ]
    },
    {
      "cell_type": "markdown",
      "metadata": {
        "id": "h-19E6BZFgsR",
        "colab_type": "text"
      },
      "source": [
        "# TR\n",
        "##Ödev : Bayes teoremi ile ilgili soru yazılıp Python ile çözülmesi.\n",
        "\n",
        "### Soru :\n",
        "Bir sivil havacılık firmasında o gün uçan uçakların bir sonraki gün için de planlanan uçuşlarda uçma \n",
        "olasılıkları hesaplanmaktadır. Bir uçağın bir sonraki gün uçma olasılığı %87 olduğu bilinmektedir. \n",
        "Uçuşları engelleyen en önemli faktörün hava koşulları olduğu bilinmektedir. Karlı havalarda bir \n",
        "uçağın uçma olasılığı %48 olduğu bilinmektedir. Bu bilgilere göre TC-BIL593 kodlu uçağın, meteorolojiden\n",
        "gelen sonraki günün karlı hava olma ihtimalinin %72 olduğu bilgisine rağmen uçmaktadır. Uçarken kar yağma olasılığı kaçtır?\n",
        "\n",
        "### Çözüm :\n",
        "* Uçağın bir sonraki gün uçma olasılığı\n",
        "$$ P(A) = 0.87 $$  \n",
        "* Bir sonraki günün karlı hava olma olasılığı \n",
        "$$ P(B) = 0.72 $$\n",
        "* Uçakların karlı havada uçma olasılığı  \n",
        "$$ P(A|B) = 0.48 $$ \n",
        "* Sonraki gün uçarken kar yağma olaslığı \n",
        "$$ P(B|A) = ? $$ \n",
        "* Bayes Teoremi\n",
        "$$ P(A|B) * P(B) = P(B|A) * P(A) $$ \n",
        "* Sonraki gün uçarken kar yağma olaslığı \n",
        "$$ P(B|A) = (P(A|B) * P(B)) / P(A)$$\n",
        "$$ P(B|A) =  0.3972 $$\n",
        "\n",
        "-------------------------------------------------------------------------------\n",
        "# EN \n",
        "##Homework : Write an question about Bayes theorem and solve with Python code.\n",
        "\n",
        "### Question : \n",
        "\n",
        "In a civil aviation company, the probability of flying on the flights planned for the next day is calculated. It is known that an aircraft has a 87% probability of flying the next day. It is known that the most important factor preventing flights is the weather conditions. It is known that an airplane has a 48% probability of flying in snowy weather. According to this information, the TC-BIL593 coded aircraft is flying despite the knowledge that the next day coming from meteorology is 72% probability of snowy weather. What is the probability of snowfall while flying?\n",
        "\n",
        "\n",
        "### Solution : \n",
        "* Probability of A/C to flight next day \n",
        "$$ P(A) = 0.87 $$ \n",
        "* Probability of snowy weather of next day\n",
        "$$ P(B) = 0.72 $$\n",
        "* Probability of A/C to flight snowy day \n",
        "$$ P(A|B) = 0.48 $$ \n",
        "* The possibility of snowfall when flying the next day\n",
        "$$ P(B|A) = ? $$ \n",
        "* Bayes Theorem\n",
        "$$ P(A|B) * P(B) = P(B|A) * P(A) $$ \n",
        "*The possibility of snowfall when flying the next day\n",
        "$$ P(B|A) = (P(A|B) * P(B)) / P(A)$$\n",
        "$$ P(B|A) =  0.3972 $$"
      ]
    },
    {
      "cell_type": "code",
      "metadata": {
        "id": "IEyceMxWGnq6",
        "colab_type": "code",
        "colab": {
          "base_uri": "https://localhost:8080/",
          "height": 51
        },
        "outputId": "ab1c0269-c636-4fec-c4d8-e2dfcab015be"
      },
      "source": [
        "import pylab\n",
        "\n",
        "def bayes(P_A=None, P_B=None, P_A_B=None, P_B_A=None):\n",
        "\t'''\n",
        "\t\tP(A|B) * P(B) = P(B|A) * P(A)\n",
        "\n",
        "\t\tTR; Bayes teorem hesaplama fonksiyonu. Fonksiyon boş bırakılan \n",
        "\t\targumanı hesaplamaktadır ve geri döndürmektedir.\n",
        "\n",
        "\t\tEN; Function of Bayes theorem calculation. Function calculates \n",
        "\t\tempty arguments and return it.\n",
        "\n",
        "\t'''\n",
        "\tif P_A == None: \n",
        "\t\t'''\n",
        "\t\t\tP(A) = (P(A|B) * P(B)) / P(B|A)\n",
        "\t\t'''\n",
        "\t\treturn (P_A_B * P_B) / P_B_A\t\n",
        "\telif P_B == None:\n",
        "\t\t'''\n",
        "\t\t\tP(B) = (P(B|A) * P(A)) / P(A|B)\n",
        "\t\t'''\n",
        "\t\treturn (P_B_A * P_A) / P_A_B\n",
        "\telif P_A_B == None:\n",
        "\t\t'''\n",
        "\t\t\tP(A|B) = (P(B|A) * P(A)) / P(B)\n",
        "\t\t'''\n",
        "\t\treturn (P_B_A * P_A) / P_B\n",
        "\telif P_B_A == None:\n",
        "\t\t'''\n",
        "\t\t\tP(B|A) = (P(A|B) * P(B)) / P(A)\n",
        "\t\t'''\n",
        "\t\treturn (P_A_B * P_B) / P_A\n",
        "\t\t\n",
        "\n",
        "\n",
        "\n",
        "if __name__ == '__main__':\n",
        "\t\n",
        "\tP_A = 0.87 \n",
        "\n",
        "\tP_B = 0.72\n",
        "\n",
        "\tP_A_B = 0.48\n",
        "\n",
        "\tP_B_A = bayes(P_A, P_B, P_A_B)\n",
        "\n",
        "\tprint('Bir sonraki gun ucarken kar yagma olasiligi :', P_B_A)\n",
        "\tprint('The possibility of snowfall when flying the next day :', P_B_A)\n"
      ],
      "execution_count": 3,
      "outputs": [
        {
          "output_type": "stream",
          "text": [
            "Bir sonraki gun ucarken kar yagma olasiligi : 0.3972413793103448\n",
            "The possibility of snowfall when flying the next day : 0.3972413793103448\n"
          ],
          "name": "stdout"
        }
      ]
    }
  ]
}