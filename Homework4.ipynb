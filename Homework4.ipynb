{
  "nbformat": 4,
  "nbformat_minor": 0,
  "metadata": {
    "colab": {
      "name": "Homework4.ipynb",
      "provenance": [],
      "collapsed_sections": [],
      "authorship_tag": "ABX9TyOzmDF4eb7pN10/htt5RVlN",
      "include_colab_link": true
    },
    "kernelspec": {
      "name": "python3",
      "display_name": "Python 3"
    }
  },
  "cells": [
    {
      "cell_type": "markdown",
      "metadata": {
        "id": "view-in-github",
        "colab_type": "text"
      },
      "source": [
        "<a href=\"https://colab.research.google.com/github/MGokcayK/AdvancedProbabilityofDiscereSystems/blob/master/Homework4.ipynb\" target=\"_parent\"><img src=\"https://colab.research.google.com/assets/colab-badge.svg\" alt=\"Open In Colab\"/></a>"
      ]
    },
    {
      "cell_type": "markdown",
      "metadata": {
        "id": "grz28sQC8qP_",
        "colab_type": "text"
      },
      "source": [
        "\n",
        "13/05/2020 /\n",
        "All rights reserved. (C) 2020 Mehmet Gökçay KABATAŞ \n",
        "\n",
        "# TR\n",
        "##Ödev : Poisson dağılımı ile ilgili bir örnek yazıp Python kodu ile çözünüz.\n",
        "\n",
        "### Soru : \n",
        "Bir havaalanına her 30 dakikalık period boyunca 6 dakikada bir uçakların piste \n",
        "inmekten vazgeçtiği ve inemeyen uçakların bir sonraki 30 dakikalık perioda \n",
        "ertelendiği bilindiğine göre bu süreçte inişe geçen uçak sayısına bağlı olarak\n",
        "uçakların iniş yapmama olasılıklarını Poisson dağılımı ile gösteriniz. \n",
        "\n",
        "\n",
        "### Çözüm :\n",
        "\n",
        "Her 30 dakikalık period boyunca 6 dakikada bir uçaklar piste inmekten vazgeçiyorsa ve \n",
        "bir sonraki 30 dakikalık perioda erteleniyorsa inmekten vazgeçme durumu uçakların sayısından \n",
        "bağımsızdır dolayısıyla beklenen değer : \n",
        "\n",
        "$$ E[X] = \\lambda = \\frac{30}{6} = 5 $$\n",
        "\n",
        "30 dakika boyunca maximum 15 uçak inmek istediği varsayılsın;\n",
        "\n",
        "$$ P(X=k) = e^{-\\lambda} * \\frac{\\lambda^{k}}{k!}, k = 0,1,..,15 $$\n",
        "\n",
        "-------------------------------------------------------------------------------\n",
        "# EN \n",
        "##Homework : Write an question about Poission distribution and solve with Python code.\n",
        "\n",
        "### Question : \n",
        "\n",
        "Bir havaalanına her 30 dakikalık period boyunca 6 dakikada bir uçakların piste \n",
        "inmekten vazgeçtiği ve inemeyen uçakların bir sonraki 30 dakikalık perioda \n",
        "ertelendiği bilindiğine göre bu süreçte inişe geçen uçak sayısına bağlı olarak\n",
        "uçakların iniş yapmama olasılıklarını Poisson dağılımı ise gösteriniz. \n",
        "\n",
        "\n",
        "### Solution : \n",
        "\n",
        "If planes cease to land on the runway every 6 minutes during a 30 minute period \n",
        "and are delayed to the next 30 minute period  the abandonment of landing is \n",
        "independent of aircraft, so the expected value :\n",
        "\n",
        "$$ E[X] = \\lambda = \\frac{30}{6} = 5 $$\n",
        "\n",
        "Assume that maximum 15 planes will to land;\n",
        "\n",
        "$$ P(X=k) = e^{-\\lambda} * \\frac{\\lambda^{k}}{k!}, k = 0,1,..,15 $$\n",
        "\n",
        "'''"
      ]
    },
    {
      "cell_type": "code",
      "metadata": {
        "id": "xP6vUCb49BmG",
        "colab_type": "code",
        "outputId": "2918a1dc-f1b6-4dc8-99cc-7a681d9fe8c8",
        "colab": {
          "base_uri": "https://localhost:8080/",
          "height": 346
        }
      },
      "source": [
        "import pylab\n",
        "import numpy as np \n",
        "import matplotlib.pyplot as plt\n",
        "\n",
        "def factorial(n):\n",
        "\t'''\n",
        "\t\tTR; Faktöriyel hesaplama.\n",
        "\n",
        "\t\tEN; Factorial calculation.\n",
        "\t'''\n",
        "\treturn  np.prod(range(1,n+1))\n",
        "\n",
        "def poisson(lmb=None, k=None):\n",
        "\t'''\n",
        "\t\tTR; Poisson dağılımı hesaplayan fonksiyon.\n",
        "\n",
        "\t\t\tP(X=k) = exp(-\\lambda) * \\frac{\\lambda^{k}}{k!}\n",
        "\n",
        "\t\t\t\t\\lambda : Beklenen değer. \n",
        "\t\t\t\t\n",
        "\t\t\t\tk\t\t: Olay sayısı. \n",
        "\n",
        "\n",
        "\t\tEN; Function that calculates Poisson distribution.\n",
        "\n",
        "\t\t\tP(X=k) = exp(-\\lambda) * \\frac{\\lambda^{k}}{k!}\n",
        "\n",
        "\t\t\t\t\\lambda : Expected value.\n",
        "\n",
        "\t\t\t\tk\t\t: Event number\n",
        "\n",
        "\t'''\n",
        "\tres = []\n",
        "\tfor item in k:\n",
        "\t\tres.append(np.exp(-lmb) * (lmb ** item) / factorial(item))\n",
        "\treturn res\n",
        "\n",
        "\n",
        "def q1():\t\n",
        "\tpois = poisson(5, np.arange(16))\n",
        "\ty_pois = np.round(pois, 4)\n",
        "\tprint('Poisson Dagilimi / Poission Distribution \\n', y_pois)\n",
        "\tplt.plot(np.arange(16), y_pois)\n",
        "\tplt.title('Poisson Dağılımı / Poission Distribution')\n",
        "\tplt.xlabel('Olay Sayısı / Event Number')\n",
        "\tplt.ylabel('Olasılık / Probability')\n",
        "\tplt.grid()\n",
        "\tplt.show()\n",
        "\n",
        "q1()"
      ],
      "execution_count": 0,
      "outputs": [
        {
          "output_type": "stream",
          "text": [
            "Poisson Dagilimi / Poission Distribution \n",
            " [0.0067 0.0337 0.0842 0.1404 0.1755 0.1755 0.1462 0.1044 0.0653 0.0363\n",
            " 0.0181 0.0082 0.0034 0.0013 0.0005 0.0002]\n"
          ],
          "name": "stdout"
        },
        {
          "output_type": "display_data",
          "data": {
            "image/png": "[encoded data removed]",
            "text/plain": [
              "<Figure size 432x288 with 1 Axes>"
            ]
          },
          "metadata": {
            "tags": [],
            "needs_background": "light"
          }
        }
      ]
    },
    {
      "cell_type": "markdown",
      "metadata": {
        "id": "K6ExARCShQxz",
        "colab_type": "text"
      },
      "source": [
        "\n",
        "# TR\n",
        "##Ödev : Binomial dağılımı ile ilgili bir örnek yazıp Python kodu ile çözünüz.\n",
        "\n",
        "### Soru : \n",
        "Bir dart oyuncusu 10 adet ok ile alıştırma yapmaktadır. Sadece 12'den vurduğunda\n",
        "kendini başarılı sayan oyuncu için başarılı atış sayılarının binomial dağılımını\n",
        "gösteriniz. \n",
        "\n",
        "### Çözüm :\n",
        "\n",
        "Sadece 12'den vurduğundan başarılı sayan oyunu için başarı olasılığı 0.38'tir. \n",
        "Oyuncu ya hedefi vurmuştur ya da vuramamıştır. Dolayısıyla :\n",
        "\n",
        "$$ P = 0.38 $$ \n",
        "\n",
        "10 farklı sayıda atış başarımı dağılımı :\n",
        "\n",
        "$$ P(X=k) = n \\choose k  *  p^{k} (1-p)^{p-k}, k = 0,1,..,10 $$\n",
        "\n",
        "-------------------------------------------------------------------------------\n",
        "# EN \n",
        "##Homework : Write an question about Binomial distribution and solve with Python code.\n",
        "\n",
        "### Question : \n",
        "\n",
        "A dart player exercises with 10 arrows. Show the binomial distribution of successful \n",
        "shot numbers for the player who counts himself when he hits only 12.\n",
        "\n",
        "\n",
        "### Solution : \n",
        "\n",
        "The probability of success is 0.38 for the game that counts as it hits only from 12.\n",
        "The player has either hit the target or has not been able to hit it. So:\n",
        "\n",
        "$$ P = 0.38 $$ \n",
        "\n",
        "10 different successful hit distribution :\n",
        "\n",
        "$$ P(X=k) = n \\choose k  *  p^{k} (1-p)^{p-k}, k = 0,1,..,10 $$\n",
        "\n"
      ]
    },
    {
      "cell_type": "code",
      "metadata": {
        "id": "B9UL19EohYkK",
        "colab_type": "code",
        "outputId": "10676f70-b7d1-4d70-a9eb-ffbaf402e37f",
        "colab": {
          "base_uri": "https://localhost:8080/",
          "height": 346
        }
      },
      "source": [
        "\n",
        "def combination(n, r): \n",
        "\t'''\n",
        "\t\tCombination C(n,r) = n! / ((n-r)! * r!)\n",
        "\n",
        "\t\tTR; n sayısının r sayılı kombinasyonu.\n",
        "\n",
        "\t\tEN; combination of n w.r.t r.\n",
        "\t'''\n",
        "\treturn factorial(n) / (factorial(n - r) * factorial(r))\n",
        "\n",
        "def binomial(n=None, k=None, p=None):\n",
        "\t'''\n",
        "\t\tTR; Binomial dağılımı hesaplayan fonksiyon.\n",
        "\n",
        "\t\t\tP(X=k) = n \\choose k  *  p^{k} (1-p)^{p-k}\n",
        "\n",
        "\t\t\t\tn\t\t: Deneme sayısı. \n",
        "\t\t\t\t\n",
        "\t\t\t\tk\t\t: İstenen olay sayısı. \n",
        "\n",
        "\t\t\t\tp\t\t: Başarı olasılığı.\n",
        "\n",
        "\n",
        "\t\tEN; Function that calculates Binomial distribution.\n",
        "\n",
        "\t\t\tP(X=k) = n \\choose k  *  p^{k} (1-p)^{p-k}\n",
        "\n",
        "\t\t\t\tn\t\t: Number of total event. \n",
        "\t\t\t\t\n",
        "\t\t\t\tk\t\t: Number of succesive event. \n",
        "\n",
        "\t\t\t\tp\t\t: Successive possibility.\n",
        "\n",
        "\t'''\n",
        "\treturn combination(n, k) * (p ** k) * ((1. - p) ** (n - k))\n",
        "\t\n",
        "\t\t\n",
        "\n",
        "def q2():\t\n",
        "\tp = 0.38\t\n",
        "\tn_of_try = np.arange(11)\n",
        "\ty_binom = []\n",
        "\tfor item in n_of_try:\n",
        "\t\ty_binom.append(binomial(10, item, p))\n",
        "\ty_binom = np.round(y_binom, 4)\n",
        "\t\n",
        "\tprint('Binomial Dagilim / Binomial Distribution \\n', y_binom)\n",
        "\tplt.plot(np.arange(11), y_binom)\n",
        "\tplt.title('Binomial Dağılım / Binomial Distribution')\n",
        "\tplt.xlabel('Olay Sayısı / Event Number')\n",
        "\tplt.ylabel('Olasılık / Probability')\n",
        "\tplt.grid()\n",
        "\tplt.show()\n",
        "\n",
        "q2()"
      ],
      "execution_count": 0,
      "outputs": [
        {
          "output_type": "stream",
          "text": [
            "Binomial Dagilim / Binomial Distribution \n",
            " [8.400e-03 5.140e-02 1.419e-01 2.319e-01 2.487e-01 1.829e-01 9.340e-02\n",
            " 3.270e-02 7.500e-03 1.000e-03 1.000e-04]\n"
          ],
          "name": "stdout"
        },
        {
          "output_type": "display_data",
          "data": {
            "image/png": "[encoded data removed]",
            "text/plain": [
              "<Figure size 432x288 with 1 Axes>"
            ]
          },
          "metadata": {
            "tags": [],
            "needs_background": "light"
          }
        }
      ]
    }
  ]
}